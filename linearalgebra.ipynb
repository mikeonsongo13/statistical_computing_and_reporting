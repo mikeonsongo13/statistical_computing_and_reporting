{
 "cells": [
  {
   "cell_type": "code",
   "execution_count": 1,
   "id": "c5f1a6ef-378a-49eb-b372-6273e7abd87f",
   "metadata": {},
   "outputs": [],
   "source": [
    "#import the required modules\n",
    "import numpy as np\n",
    "import pandas as pd\n"
   ]
  },
  {
   "cell_type": "code",
   "execution_count": 2,
   "id": "d41dca04",
   "metadata": {},
   "outputs": [
    {
     "ename": "SyntaxError",
     "evalue": "invalid syntax (2483634025.py, line 1)",
     "output_type": "error",
     "traceback": [
      "\u001b[1;36m  Input \u001b[1;32mIn [2]\u001b[1;36m\u001b[0m\n\u001b[1;33m    first we need to understand what a set is cause its essentioal to\u001b[0m\n\u001b[1;37m          ^\u001b[0m\n\u001b[1;31mSyntaxError\u001b[0m\u001b[1;31m:\u001b[0m invalid syntax\n"
     ]
    }
   ],
   "source": [
    "first we need to understand what a set is cause its essentioal to \n",
    "linearalgebra.\n",
    "In mathematics set is a colection fo objects and denoted by braces{}\n",
    "s={orange,apple,banana}\n",
    "This means that s is a set of orange apple and bananas\n",
    "Empty sets are denoted by {} or ∅ .\n",
    "given two set A and B we are able to show that :\n",
    "    A∪B union of A and B equal to set of containin all elements of A and B\n",
    "    \n",
    "    \n",
    "    "
   ]
  },
  {
   "cell_type": "code",
   "execution_count": 6,
   "id": "efe5db07",
   "metadata": {},
   "outputs": [
    {
     "name": "stdout",
     "output_type": "stream",
     "text": [
      "[[0. 0. 0.]\n",
      " [0. 0. 0.]\n",
      " [0. 0. 0.]]\n",
      "[[1. 1.]\n",
      " [1. 1.]]\n"
     ]
    }
   ],
   "source": [
    "#uses the zeros and ones function form the numpy modules to create an n-dimesional array of ones and\n",
    "#zeros as seen in the output\n",
    "zero=np.zeros((3,3))\n",
    "print(zero)\n",
    "one=np.ones((2,2))\n",
    "print(one)"
   ]
  },
  {
   "cell_type": "code",
   "execution_count": null,
   "id": "e4105384",
   "metadata": {},
   "outputs": [],
   "source": [
    "#create a row and column vector using the array funtion form the numpy modulw\n",
    "\n",
    "vector_row = np.array([[1, -5, 3, 2, 4]])\n",
    "vector_column = np.array([[1],[2],[3],[4]])\n",
    "print(vector_row.shape)\n",
    "print(vector_row)\n",
    "print(vector_column.shape)\n",
    "print(vector_column)"
   ]
  },
  {
   "cell_type": "code",
   "execution_count": 11,
   "id": "d0af95c3",
   "metadata": {},
   "outputs": [
    {
     "name": "stdout",
     "output_type": "stream",
     "text": [
      "[[ 1]\n",
      " [-5]\n",
      " [ 3]\n",
      " [ 2]\n",
      " [ 4]]\n",
      "L_1 is: 15.0\n",
      "L_2 is: 7.4\n",
      "L_inf is: 5.0\n"
     ]
    }
   ],
   "source": [
    "#the code below is for calculateing the norml of a vector using the linalg module\n",
    "# it takes two argument the object eg the vector and the method use to  find the normal usually in two \n",
    "#figues 1(the Manhattan distance) and 2(Euclidean distance) also the p-norm which is towards infinity \n",
    "from numpy.linalg import norm\n",
    "new_vector = vector_row.T\n",
    "print(new_vector)\n",
    "norm_1 = norm(new_vector, 1)\n",
    "norm_2 = norm(new_vector, 2)\n",
    "norm_inf = norm(new_vector, np.inf)\n",
    "print('L_1 is: %.1f'%norm_1)\n",
    "print('L_2 is: %.1f'%norm_2)\n",
    "print('L_inf is: %.1f'%norm_inf)"
   ]
  },
  {
   "cell_type": "code",
   "execution_count": 3,
   "id": "3c99b9e0",
   "metadata": {},
   "outputs": [
    {
     "ename": "NameError",
     "evalue": "name 'norm' is not defined",
     "output_type": "error",
     "traceback": [
      "\u001b[1;31m---------------------------------------------------------------------------\u001b[0m",
      "\u001b[1;31mNameError\u001b[0m                                 Traceback (most recent call last)",
      "Input \u001b[1;32mIn [3]\u001b[0m, in \u001b[0;36m<cell line: 6>\u001b[1;34m()\u001b[0m\n\u001b[0;32m      4\u001b[0m v \u001b[38;5;241m=\u001b[39m np\u001b[38;5;241m.\u001b[39marray([[\u001b[38;5;241m10\u001b[39m, \u001b[38;5;241m9\u001b[39m, \u001b[38;5;241m3\u001b[39m]])\n\u001b[0;32m      5\u001b[0m w \u001b[38;5;241m=\u001b[39m np\u001b[38;5;241m.\u001b[39marray([[\u001b[38;5;241m2\u001b[39m, \u001b[38;5;241m5\u001b[39m, \u001b[38;5;241m12\u001b[39m]])\n\u001b[1;32m----> 6\u001b[0m theta \u001b[38;5;241m=\u001b[39m arccos(dot(v, w\u001b[38;5;241m.\u001b[39mT)\u001b[38;5;241m/\u001b[39m(\u001b[43mnorm\u001b[49m(v)\u001b[38;5;241m*\u001b[39mnorm(w)))\n\u001b[0;32m      7\u001b[0m \u001b[38;5;28mprint\u001b[39m(theta)\n",
      "\u001b[1;31mNameError\u001b[0m: name 'norm' is not defined"
     ]
    }
   ],
   "source": [
    "#angles between two vectors buy dusing the dot and cross product and\n",
    "#getting the cos inverse.\n",
    "from numpy import arccos, dot\n",
    "v = np.array([[10, 9, 3]])\n",
    "w = np.array([[2, 5, 12]])\n",
    "theta = arccos(dot(v, w.T)/(norm(v)*norm(w)))\n",
    "print(theta)"
   ]
  },
  {
   "cell_type": "code",
   "execution_count": 14,
   "id": "49ef401a",
   "metadata": {},
   "outputs": [
    {
     "name": "stdout",
     "output_type": "stream",
     "text": [
      "[[ 0  0 -6]]\n"
     ]
    }
   ],
   "source": [
    "#cross product \n",
    "v = np.array([[0, 2, 0]])\n",
    "w = np.array([[3, 0, 0]])\n",
    "print(np.cross(v, w))"
   ]
  },
  {
   "cell_type": "code",
   "execution_count": 4,
   "id": "a2e3113e",
   "metadata": {},
   "outputs": [
    {
     "name": "stdout",
     "output_type": "stream",
     "text": [
      "[[-8 -1  4]]\n"
     ]
    }
   ],
   "source": [
    "#here x is represented as a linear combination of v w and u which results in a new vector \n",
    "v = np.array([[0, 3, 2]])\n",
    "w = np.array([[4, 1, 1]])\n",
    "u = np.array([[0, -2, 0]])\n",
    "x = 3*v-2*w+4*u\n",
    "print(x)"
   ]
  },
  {
   "cell_type": "code",
   "execution_count": 5,
   "id": "ab4fbf70",
   "metadata": {},
   "outputs": [
    {
     "name": "stdout",
     "output_type": "stream",
     "text": [
      "[[1 7]\n",
      " [2 3]\n",
      " [5 0]]\n",
      "[[2 6 3 1]\n",
      " [1 2 3 4]]\n",
      "[[ 9 20 24 29]\n",
      " [ 7 18 15 14]\n",
      " [10 30 15  5]]\n"
     ]
    }
   ],
   "source": [
    "#matrices\n",
    "P=np.array([[1,7],[2,3],[5,0]])\n",
    "Q=np.array([[2,6,3,1],[1,2,3,4]])\n",
    "print(P)\n",
    "print(Q)\n",
    "print(np.dot(P,Q))\n"
   ]
  },
  {
   "cell_type": "code",
   "execution_count": 16,
   "id": "38e587d9",
   "metadata": {},
   "outputs": [
    {
     "name": "stdout",
     "output_type": "stream",
     "text": [
      "M:\n",
      " [[0 2 1 3]\n",
      " [3 2 8 1]\n",
      " [1 0 0 3]\n",
      " [0 3 2 1]]\n",
      "Determinant : %.lf -38.000000000000014\n",
      "I:\n",
      " [[1. 0. 0. 0.]\n",
      " [0. 1. 0. 0.]\n",
      " [0. 0. 1. 0.]\n",
      " [0. 0. 0. 1.]]\n",
      "M*I:\n",
      " [[0. 2. 1. 3.]\n",
      " [3. 2. 8. 1.]\n",
      " [1. 0. 0. 3.]\n",
      " [0. 3. 2. 1.]]\n"
     ]
    }
   ],
   "source": [
    "#square matrices are important in calculating the \n",
    "#determinat and inverse the determinant if found in the numpy.linalg module\n",
    "#the inverse is a poduct of the dot product of the matrics and the identity of the matrics\n",
    "from numpy.linalg import det\n",
    "M=np.array([[0,2,1,3],[3,2,8,1],[1,0,0,3],[0,3,2,1]])\n",
    "print(\"M:\\n\",M)\n",
    "print(\"Determinant : %.lf\",det(M))\n",
    "I=np.eye(4)\n",
    "print(\"I:\\n\",I)\n",
    "print(\"M*I:\\n\",np.dot(M,I))\n"
   ]
  },
  {
   "cell_type": "code",
   "execution_count": 12,
   "id": "b602ea77",
   "metadata": {},
   "outputs": [
    {
     "name": "stdout",
     "output_type": "stream",
     "text": [
      "Inv M:\n",
      " [[-1.57894737 -0.07894737  1.23684211  1.10526316]\n",
      " [-0.63157895 -0.13157895  0.39473684  0.84210526]\n",
      " [ 0.68421053  0.18421053 -0.55263158 -0.57894737]\n",
      " [ 0.52631579  0.02631579 -0.07894737 -0.36842105]]\n",
      "[[0 1 1]\n",
      " [0 0 0]\n",
      " [1 0 1]]\n",
      "det(P):\n",
      " 0.0\n"
     ]
    }
   ],
   "source": [
    "#use the inv module form the linalg pacK\n",
    "from numpy.linalg import inv\n",
    "print(\"Inv M:\\n\",inv(M))\n",
    "P=np.array([[0,1,1],[0,0,0],[1,0,1]])\n",
    "print(P)\n",
    "print(\"det(P):\\n\",det(P))\n"
   ]
  },
  {
   "cell_type": "code",
   "execution_count": 14,
   "id": "71a467a8",
   "metadata": {},
   "outputs": [
    {
     "name": "stdout",
     "output_type": "stream",
     "text": [
      "[[1 1 0]\n",
      " [0 1 0]\n",
      " [1 0 1]]\n",
      "Condition number:\n",
      " 4.048917339522305\n",
      "Rank:\n",
      " 3\n",
      "[[1]\n",
      " [2]\n",
      " [1]]\n",
      "Augmented matrix:\n",
      " [[1 1 0 1]\n",
      " [0 1 0 2]\n",
      " [1 0 1 1]]\n"
     ]
    }
   ],
   "source": [
    "#calculation of the condition number (cond function )and rank (matrix_rank function)\n",
    "#the rank of a matrix is the number of independet rows and columns in a matrics\n",
    "#full rank if the rank of rows and columns are equal \n",
    "from numpy.linalg import cond, matrix_rank\n",
    "A = np.array([[1,1,0],\n",
    "[0,1,0],\n",
    "[1,0,1]])\n",
    "print(A)\n",
    "print(\"Condition number:\\n\", cond(A))\n",
    "print(\"Rank:\\n\", matrix_rank(A))\n",
    "y = np.array([[1], [2], [1]])\n",
    "print(y)\n",
    "A_y = np.concatenate((A, y), axis = 1)\n",
    "print(\"Augmented matrix:\\n\", A_y)"
   ]
  },
  {
   "cell_type": "code",
   "execution_count": 17,
   "id": "508fb116",
   "metadata": {},
   "outputs": [
    {
     "name": "stdout",
     "output_type": "stream",
     "text": [
      "Condition number:\n",
      " 4.048917339522305\n",
      "Rank:\n",
      " 3\n",
      "Augmented matrix:\n",
      " [[1 1 0 1]\n",
      " [0 1 0 2]\n",
      " [1 0 1 1]]\n"
     ]
    }
   ],
   "source": [
    "\"\"\"Matrix A=[[1,1,0],[0,1,0],[1,0,1]], compute the condition number and rank for this matrix. If y=[[1],[2],[1]], get the augmented matrix [A, y].\n",
    "A matrics with out an inverse is called a singular matrix and one \n",
    "with a determinant is a non-singular matrix.\n",
    "A matrix with a determinat that tends towards zero is called an ill conditioned matrix\n",
    "the condition number can be found by the cond method in the numpy module\"\"\"\n",
    "from numpy.linalg import \\\n",
    "             cond, matrix_rank\n",
    "\n",
    "A = np.array([[1,1,0],\n",
    "              [0,1,0],\n",
    "              [1,0,1]])\n",
    "\n",
    "print('Condition number:\\n', cond(A))\n",
    "print('Rank:\\n', matrix_rank(A))\n",
    "y = np.array([[1], [2], [1]])\n",
    "A_y = np.concatenate((A, y), axis = 1)\n",
    "print('Augmented matrix:\\n', A_y)"
   ]
  },
  {
   "cell_type": "code",
   "execution_count": 18,
   "id": "5008bbe5",
   "metadata": {},
   "outputs": [
    {
     "name": "stdout",
     "output_type": "stream",
     "text": [
      "LU= [[ 4.  3. -5.]\n",
      " [-2. -4.  5.]\n",
      " [ 8.  8.  0.]]\n"
     ]
    }
   ],
   "source": [
    "#solving of linear equation \n",
    "#decompostion of the a matrix int lu \n",
    "import numpy as np\n",
    "\n",
    "u = np.array([[4, 3, -5], \n",
    "              [0, -2.5, 2.5], \n",
    "              [0, 0, 12]])\n",
    "l = np.array([[1, 0, 0], \n",
    "              [-0.5, 1, 0], \n",
    "              [2, -0.8, 1]])\n",
    "\n",
    "print('LU=', np.dot(l, u))\n"
   ]
  },
  {
   "cell_type": "code",
   "execution_count": 21,
   "id": "508a94cc",
   "metadata": {},
   "outputs": [
    {
     "name": "stdout",
     "output_type": "stream",
     "text": [
      "matrix is diagonally dominant\n"
     ]
    }
   ],
   "source": [
    "#gauss-seidel method of sloving linear equations\n",
    "#first we check if the matrix if diagonally dominant or not \n",
    "a= [[8, 3, -3], [-2, -8, 5], [3, 5, 10]]\n",
    "\n",
    "# Find diagonal coefficients\n",
    "diag = np.diag(np.abs(a)) \n",
    "\n",
    "# Find row sum without diagonal\n",
    "off_diag = np.sum(np.abs(a), axis=1) - diag \n",
    "\n",
    "if np.all(diag > off_diag):\n",
    "    print('matrix is diagonally dominant')\n",
    "else:\n",
    "    print('NOT diagonally dominant')"
   ]
  },
  {
   "cell_type": "code",
   "execution_count": 22,
   "id": "36c1bd26",
   "metadata": {},
   "outputs": [
    {
     "name": "stdout",
     "output_type": "stream",
     "text": [
      "Iteration results\n",
      " k,    x1,    x2,    x3 \n",
      "1, 1.7500, -1.0625, 1.5875\n",
      "2, 2.7437, -0.3188, 2.9275\n",
      "3, 2.9673, 0.4629, 3.8433\n",
      "4, 3.0177, 1.0226, 4.4332\n",
      "5, 3.0290, 1.3885, 4.8059\n",
      "6, 3.0315, 1.6208, 5.0397\n",
      "7, 3.0321, 1.7668, 5.1861\n",
      "8, 3.0322, 1.8582, 5.2776\n",
      "9, 3.0322, 1.9154, 5.3348\n",
      "10, 3.0323, 1.9512, 5.3705\n",
      "11, 3.0323, 1.9735, 5.3929\n",
      "12, 3.0323, 1.9875, 5.4068\n",
      "13, 3.0323, 1.9962, 5.4156\n",
      "14, 3.0323, 2.0017, 5.4210\n",
      "Converged!\n"
     ]
    }
   ],
   "source": [
    "#since the matrix is guaranteed to converge we can use \n",
    "#Guass-seidel method to solve it\n",
    "x1 = 0\n",
    "x2 = 0\n",
    "x3 = 0\n",
    "epsilon = 0.01\n",
    "converged = False\n",
    "\n",
    "x_old = np.array([x1, x2, x3])\n",
    "\n",
    "print('Iteration results')\n",
    "print(' k,    x1,    x2,    x3 ')\n",
    "for k in range(1, 50):\n",
    "    x1 = (14-3*x2+3*x3)/8\n",
    "    x2 = (5+2*x1-5*x3)/(-8)\n",
    "    x3 = (-8-3*x1-5*x2)/(-5)\n",
    "    x = np.array([x1, x2, x3])\n",
    "    # check if it is smaller than threshold\n",
    "    dx = np.sqrt(np.dot(x-x_old, x-x_old))\n",
    "    \n",
    "    print(\"%d, %.4f, %.4f, %.4f\"%(k, x1, x2, x3))\n",
    "    if dx < epsilon:\n",
    "        converged = True\n",
    "        print('Converged!')\n",
    "        break\n",
    "        \n",
    "    # assign the latest x value to the old value\n",
    "    x_old = x\n",
    "\n",
    "if not converged:\n",
    "    print('Not converge, increase the # of iterations')"
   ]
  },
  {
   "cell_type": "code",
   "execution_count": 26,
   "id": "b08a7339",
   "metadata": {},
   "outputs": [
    {
     "name": "stdout",
     "output_type": "stream",
     "text": [
      "3\n",
      "[[ 4  3 -5]\n",
      " [-2 -4  5]\n",
      " [ 8  8  0]]\n",
      "[ 2  5 -3]\n",
      "[ 2.20833333 -2.58333333 -0.18333333]\n"
     ]
    }
   ],
   "source": [
    "#solving systems of linear equations in python through numpy function \n",
    "#the code below is using the lu decomposition to get the results\n",
    "import numpy as np\n",
    "A=np.array([[4,3,-5],[-2,-4,5],[8,8,0]])\n",
    "print(A)\n",
    "Y=np.array([2,5,-3])\n",
    "print(Y)\n",
    "x=np.linalg.solve(A,Y)\n",
    "print(x)"
   ]
  },
  {
   "cell_type": "code",
   "execution_count": 30,
   "id": "298df3e1",
   "metadata": {},
   "outputs": [
    {
     "name": "stdout",
     "output_type": "stream",
     "text": [
      "[ 2.20833333 -2.58333333 -0.18333333]\n"
     ]
    }
   ],
   "source": [
    "#solving the problem form the privouse cell with matrix inverse \n",
    "#approach\n",
    "\n",
    "A_inv = np.linalg.inv(A)\n",
    "\n",
    "x = np.dot(A_inv, Y)\n",
    "print(x)"
   ]
  },
  {
   "cell_type": "code",
   "execution_count": 39,
   "id": "f821a6ff",
   "metadata": {},
   "outputs": [
    {
     "name": "stdout",
     "output_type": "stream",
     "text": [
      "p:\n",
      " [[0. 0. 1.]\n",
      " [0. 1. 0.]\n",
      " [1. 0. 0.]]\n",
      "L:\n",
      " [[ 1.    0.    0.  ]\n",
      " [-0.25  1.    0.  ]\n",
      " [ 0.5   0.5   1.  ]]\n",
      "U:\n",
      " [[ 8.   8.   0. ]\n",
      " [ 0.  -2.   5. ]\n",
      " [ 0.   0.  -7.5]]\n",
      "LU:\n",
      " [[ 8.  8.  0.]\n",
      " [-2. -4.  5.]\n",
      " [ 4.  3. -5.]]\n",
      "[[24.]\n",
      " [-5.]\n",
      " [ 5.]]\n"
     ]
    }
   ],
   "source": [
    "from scipy.linalg import lu\n",
    "P,L,U=lu(A)\n",
    "print(\"p:\\n\",P)\n",
    "print(\"L:\\n\",L)\n",
    "print(\"U:\\n\",U)\n",
    "print(\"LU:\\n\",np.dot(L,U))\n"
   ]
  },
  {
   "cell_type": "code",
   "execution_count": null,
   "id": "2aa6ae61",
   "metadata": {},
   "outputs": [],
   "source": []
  }
 ],
 "metadata": {
  "kernelspec": {
   "display_name": "Python 3 (ipykernel)",
   "language": "python",
   "name": "python3"
  },
  "language_info": {
   "codemirror_mode": {
    "name": "ipython",
    "version": 3
   },
   "file_extension": ".py",
   "mimetype": "text/x-python",
   "name": "python",
   "nbconvert_exporter": "python",
   "pygments_lexer": "ipython3",
   "version": "3.9.12"
  }
 },
 "nbformat": 4,
 "nbformat_minor": 5
}
